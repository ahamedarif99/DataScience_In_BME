{
 "cells": [
  {
   "cell_type": "code",
   "execution_count": 1,
   "metadata": {},
   "outputs": [],
   "source": [
    "from sklearn.datasets import load_digits\n",
    "import pandas as pd\n",
    "import seaborn as sns\n",
    "import matplotlib.pyplot as plt\n",
    "from sklearn.model_selection import train_test_split\n",
    "from sklearn.neighbors import KNeighborsClassifier\n",
    "from sklearn.metrics import accuracy_score\n",
    "from sklearn.metrics import confusion_matrix\n",
    "from sklearn import svm\n",
    "import matplotlib.pyplot as plt\n",
    "import matplotlib.image as mpimg\n",
    "from skimage import data, color\n",
    "from skimage.transform import rescale, resize, downscale_local_mean\n",
    "import numpy as np"
   ]
  },
  {
   "cell_type": "code",
   "execution_count": 63,
   "metadata": {},
   "outputs": [],
   "source": [
    "digits = load_digits()\n",
    "x_train, x_test, y_train, y_test = train_test_split(digits.data, digits.target, random_state=11)\n"
   ]
  },
  {
   "cell_type": "code",
   "execution_count": 5,
   "metadata": {},
   "outputs": [
    {
     "name": "stdout",
     "output_type": "stream",
     "text": [
      "(20, 64)\n"
     ]
    }
   ],
   "source": [
    "img1 = mpimg.imread('img1.jpg')\n",
    "image1 = color.rgb2grey(img1)\n",
    "image1_resized = resize(image1, (8, 8), anti_aliasing=False)\n",
    "image1_inverse = (1-image1_resized)\n",
    "image1_final = (image1_inverse-image1_inverse.min()) * 16 / (image1_inverse.max()-image1_inverse.min())\n",
    "\n",
    "img2 = mpimg.imread('img2.jpg')\n",
    "image2 = color.rgb2grey(img2)\n",
    "image2_resized = resize(image2, (8, 8), anti_aliasing=False)\n",
    "image2_inverse = (1-image2_resized)\n",
    "image2_final = (image2_inverse-image2_inverse.min()) * 16 / (image2_inverse.max()-image2_inverse.min())\n",
    "\n",
    "img3 = mpimg.imread('img3.jpg')\n",
    "image3 = color.rgb2grey(img3)\n",
    "image3_resized = resize(image3, (8, 8), anti_aliasing=False)\n",
    "image3_inverse = (1-image3_resized)\n",
    "image3_final = (image3_inverse-image3_inverse.min()) * 16 / (image3_inverse.max()-image3_inverse.min())\n",
    "\n",
    "img4 = mpimg.imread('img4.jpg')\n",
    "image4 = color.rgb2grey(img4)\n",
    "image4_resized = resize(image4, (8, 8), anti_aliasing=False)\n",
    "image4_inverse = (1-image4_resized)\n",
    "image4_final = (image4_inverse-image4_inverse.min()) * 16 / (image4_inverse.max()-image4_inverse.min())\n",
    "\n",
    "img5 = mpimg.imread('img5.jpg')\n",
    "image5 = color.rgb2grey(img5)\n",
    "image5_resized = resize(image5, (8, 8), anti_aliasing=False)\n",
    "image5_inverse = (1-image5_resized)\n",
    "image5_final = (image5_inverse-image5_inverse.min()) * 16 / (image5_inverse.max()-image5_inverse.min())\n",
    "\n",
    "img6 = mpimg.imread('img6.jpg')\n",
    "image6 = color.rgb2grey(img6)\n",
    "image6_resized = resize(image6, (8, 8), anti_aliasing=False)\n",
    "image6_inverse = (1-image6_resized)\n",
    "image6_final = (image6_inverse-image6_inverse.min()) * 16 / (image6_inverse.max()-image6_inverse.min())\n",
    "\n",
    "img7 = mpimg.imread('img7.jpg')\n",
    "image7 = color.rgb2grey(img7)\n",
    "image7_resized = resize(image7, (8, 8), anti_aliasing=False)\n",
    "image7_inverse = (1-image7_resized)\n",
    "image7_final = (image7_inverse-image7_inverse.min()) * 16 / (image7_inverse.max()-image7_inverse.min())\n",
    "\n",
    "img8 = mpimg.imread('img8.jpg')\n",
    "image8 = color.rgb2grey(img8)\n",
    "image8_resized = resize(image8, (8, 8), anti_aliasing=False)\n",
    "image8_inverse = (1-image8_resized)\n",
    "image8_final = (image8_inverse-image8_inverse.min()) * 16 / (image8_inverse.max()-image8_inverse.min())\n",
    "\n",
    "img9 = mpimg.imread('img9.jpg')\n",
    "image9 = color.rgb2grey(img9)\n",
    "image9_resized = resize(image9, (8, 8), anti_aliasing=False)\n",
    "image9_inverse = (1-image9_resized)\n",
    "image9_final = (image9_inverse-image9_inverse.min()) * 16 / (image9_inverse.max()-image9_inverse.min())\n",
    "\n",
    "img10 = mpimg.imread('img10.jpg')\n",
    "image10 = color.rgb2grey(img10)\n",
    "image10_resized = resize(image10, (8, 8), anti_aliasing=False)\n",
    "image10_inverse = (1-image10_resized)\n",
    "image10_final = (image10_inverse-image10_inverse.min()) * 16 / (image10_inverse.max()-image10_inverse.min())\n",
    "\n",
    "img11 = mpimg.imread('img11.jpg')\n",
    "image11 = color.rgb2grey(img11)\n",
    "image11_resized = resize(image11, (8, 8), anti_aliasing=False)\n",
    "image11_inverse = (1-image11_resized)\n",
    "image11_final = (image11_inverse-image11_inverse.min()) * 16 / (image11_inverse.max()-image11_inverse.min())\n",
    "\n",
    "img12 = mpimg.imread('img1.jpg')\n",
    "image12 = color.rgb2grey(img12)\n",
    "image12_resized = resize(image12, (8, 8), anti_aliasing=False)\n",
    "image12_inverse = (1-image12_resized)\n",
    "image12_final = (image12_inverse-image12_inverse.min()) * 16 / (image12_inverse.max()-image12_inverse.min())\n",
    "\n",
    "img13 = mpimg.imread('img13.jpg')\n",
    "image13 = color.rgb2grey(img13)\n",
    "image13_resized = resize(image13, (8, 8), anti_aliasing=False)\n",
    "image13_inverse = (1-image13_resized)\n",
    "image13_final = (image13_inverse-image13_inverse.min()) * 16 / (image13_inverse.max()-image13_inverse.min())\n",
    "\n",
    "img14 = mpimg.imread('img14.jpg')\n",
    "image14 = color.rgb2grey(img14)\n",
    "image14_resized = resize(image14, (8, 8), anti_aliasing=False)\n",
    "image14_inverse = (1-image14_resized)\n",
    "image14_final = (image14_inverse-image14_inverse.min()) * 16 / (image14_inverse.max()-image14_inverse.min())\n",
    "\n",
    "img15 = mpimg.imread('img15.jpg')\n",
    "image15 = color.rgb2grey(img15)\n",
    "image15_resized = resize(image15, (8, 8), anti_aliasing=False)\n",
    "image15_inverse = (1-image15_resized)\n",
    "image15_final = (image15_inverse-image15_inverse.min()) * 16 / (image15_inverse.max()-image15_inverse.min())\n",
    "\n",
    "img16 = mpimg.imread('img16.jpg')\n",
    "image16 = color.rgb2grey(img16)\n",
    "image16_resized = resize(image16, (8, 8), anti_aliasing=False)\n",
    "image16_inverse = (1-image16_resized)\n",
    "image16_final = (image16_inverse-image16_inverse.min()) * 16 / (image16_inverse.max()-image16_inverse.min())\n",
    "\n",
    "img17 = mpimg.imread('img17.jpg')\n",
    "image17 = color.rgb2grey(img17)\n",
    "image17_resized = resize(image17, (8, 8), anti_aliasing=False)\n",
    "image17_inverse = (1-image17_resized)\n",
    "image17_final = (image17_inverse-image17_inverse.min()) * 16 / (image17_inverse.max()-image17_inverse.min())\n",
    "\n",
    "img18 = mpimg.imread('img18.jpg')\n",
    "image18 = color.rgb2grey(img18)\n",
    "image18_resized = resize(image18, (8, 8), anti_aliasing=False)\n",
    "image18_inverse = (1-image18_resized)\n",
    "image18_final = (image18_inverse-image18_inverse.min()) * 16 / (image18_inverse.max()-image18_inverse.min())\n",
    "\n",
    "img19 = mpimg.imread('img19.jpg')\n",
    "image19 = color.rgb2grey(img19)\n",
    "image19_resized = resize(image19, (8, 8), anti_aliasing=False)\n",
    "image19_inverse = (1-image19_resized)\n",
    "image19_final = (image19_inverse-image19_inverse.min()) * 16 / (image19_inverse.max()-image19_inverse.min())\n",
    "\n",
    "img20 = mpimg.imread('img20.jpg')\n",
    "image20 = color.rgb2grey(img20)\n",
    "image20_resized = resize(image1, (8, 8), anti_aliasing=False)\n",
    "image20_inverse = (1-image20_resized)\n",
    "image20_final = (image20_inverse-image20_inverse.min()) * 16 / (image20_inverse.max()-image20_inverse.min())\n",
    "\n",
    "x_test = [image1_final.flatten(), image2_final.flatten(), image3_final.flatten(), image4_final.flatten(), image5_final.flatten(),\n",
    "          image6_final.flatten(), image7_final.flatten(), image8_final.flatten(), image9_final.flatten(), image10_final.flatten(),\n",
    "          image11_final.flatten(), image12_final.flatten(), image13_final.flatten(), image14_final.flatten(), image15_final.flatten(),\n",
    "          image16_final.flatten(), image17_final.flatten(), image18_final.flatten(), image19_final.flatten(), image20_final.flatten()]\n",
    "x_test = np.array(x_test)\n",
    "\n",
    "y_test = np.array((1, 9, 9, 1, 1, 1, 9, 9, 9, 9, 1, 1, 1, 1, 1, 9, 9, 1, 1, 9))\n"
   ]
  },
  {
   "cell_type": "code",
   "execution_count": 65,
   "metadata": {},
   "outputs": [
    {
     "name": "stdout",
     "output_type": "stream",
     "text": [
      "Accuracy score using KNN 95.0\n"
     ]
    },
    {
     "data": {
      "image/png": "[encoded data removed]",
      "text/plain": [
       "<Figure size 432x360 with 2 Axes>"
      ]
     },
     "metadata": {
      "needs_background": "light"
     },
     "output_type": "display_data"
    }
   ],
   "source": [
    "knn = KNeighborsClassifier()\n",
    "knn.fit(x_train, y_train)\n",
    "predicted = knn.predict(x_test)\n",
    "expected = y_test\n",
    "\n",
    "acc = accuracy_score(expected, predicted)\n",
    "print(\"Accuracy score using KNN\", acc*100)\n",
    "\n",
    "confusion = confusion_matrix(expected, predicted)\n",
    "confusion\n",
    "\n",
    "confusion_df = pd.DataFrame (confusion, range(2), range(2))\n",
    "figure = plt.figure(figsize=(6,5))\n",
    "axes = sns.heatmap (confusion_df, annot=True,\n",
    " cmap=plt.cm.nipy_spectral_r)\n"
   ]
  },
  {
   "cell_type": "code",
   "execution_count": 66,
   "metadata": {},
   "outputs": [
    {
     "name": "stdout",
     "output_type": "stream",
     "text": [
      "Accuracy score using SVC 40.0\n"
     ]
    },
    {
     "data": {
      "image/png": "[encoded data removed]",
      "text/plain": [
       "<Figure size 432x360 with 2 Axes>"
      ]
     },
     "metadata": {
      "needs_background": "light"
     },
     "output_type": "display_data"
    }
   ],
   "source": [
    "SVC = svm.SVC(kernel='poly', gamma='auto')\n",
    "SVC.fit(x_train, y_train)\n",
    "predicted = SVC.predict(x_test)\n",
    "expected = y_test\n",
    "\n",
    "acc = accuracy_score(expected, predicted)\n",
    "print(\"Accuracy score using SVC\", acc*100)\n",
    "\n",
    "confusion = confusion_matrix(expected, predicted)\n",
    "confusion\n",
    "\n",
    "confusion_df = pd.DataFrame (confusion, range(3), range(3))\n",
    "figure = plt.figure(figsize=(6,5))\n",
    "axes = sns.heatmap (confusion_df, annot=True,\n",
    " cmap=plt.cm.nipy_spectral_r)"
   ]
  },
  {
   "cell_type": "code",
   "execution_count": null,
   "metadata": {},
   "outputs": [],
   "source": []
  }
 ],
 "metadata": {
  "kernelspec": {
   "display_name": "Python 3",
   "language": "python",
   "name": "python3"
  },
  "language_info": {
   "codemirror_mode": {
    "name": "ipython",
    "version": 3
   },
   "file_extension": ".py",
   "mimetype": "text/x-python",
   "name": "python",
   "nbconvert_exporter": "python",
   "pygments_lexer": "ipython3",
   "version": "3.7.7"
  }
 },
 "nbformat": 4,
 "nbformat_minor": 2
}
