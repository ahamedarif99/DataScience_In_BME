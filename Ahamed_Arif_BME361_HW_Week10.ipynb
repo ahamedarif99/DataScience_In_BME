{
 "cells": [
  {
   "cell_type": "code",
   "execution_count": 1,
   "metadata": {},
   "outputs": [],
   "source": [
    "import pandas as pd\n",
    "import requests\n",
    "from bs4 import BeautifulSoup"
   ]
  },
  {
   "cell_type": "code",
   "execution_count": 2,
   "metadata": {},
   "outputs": [
    {
     "name": "stdout",
     "output_type": "stream",
     "text": [
      "[       #                                      COUNTRY           AMOUNT  DATE  \\\n",
      "0      1                                United States   $9.78 trillion  2001   \n",
      "1      2                                        Japan   $4.52 trillion  2001   \n",
      "2    NaN  Group of 7 countries (G7) average (profile)   $2.99 trillion  2001   \n",
      "3      3                                      Germany   $1.94 trillion  2001   \n",
      "4      4                               United Kingdom   $1.48 trillion  2001   \n",
      "..   ...                                          ...              ...   ...   \n",
      "180  165                                        Tonga  $154.22 million  2001   \n",
      "181  166                                        Palau  $132.22 million  2001   \n",
      "182  167                             Marshall Islands  $114.85 million  2001   \n",
      "183  168                                     Kiribati   $77.06 million  2001   \n",
      "184  169                        Sao Tome and Principe   $42.78 million  2001   \n",
      "\n",
      "     GRAPH  \n",
      "0      NaN  \n",
      "1      NaN  \n",
      "2      NaN  \n",
      "3      NaN  \n",
      "4      NaN  \n",
      "..     ...  \n",
      "180    NaN  \n",
      "181    NaN  \n",
      "182    NaN  \n",
      "183    NaN  \n",
      "184    NaN  \n",
      "\n",
      "[185 rows x 5 columns]]\n"
     ]
    }
   ],
   "source": [
    "res = requests.get(\"https://www.nationmaster.com/country-info/stats/Economy/Gross-National-Income\")\n",
    "soup = BeautifulSoup(res.content,'lxml')\n",
    "table = soup.find_all('table')[0] \n",
    "df = pd.read_html(str(table))\n",
    "print(df)"
   ]
  },
  {
   "cell_type": "code",
   "execution_count": null,
   "metadata": {},
   "outputs": [],
   "source": []
  }
 ],
 "metadata": {
  "kernelspec": {
   "display_name": "Python 3",
   "language": "python",
   "name": "python3"
  },
  "language_info": {
   "codemirror_mode": {
    "name": "ipython",
    "version": 3
   },
   "file_extension": ".py",
   "mimetype": "text/x-python",
   "name": "python",
   "nbconvert_exporter": "python",
   "pygments_lexer": "ipython3",
   "version": "3.7.4"
  }
 },
 "nbformat": 4,
 "nbformat_minor": 2
}
