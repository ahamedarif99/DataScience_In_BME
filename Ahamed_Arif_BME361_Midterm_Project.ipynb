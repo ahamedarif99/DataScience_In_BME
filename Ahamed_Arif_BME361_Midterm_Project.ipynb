{
 "cells": [
  {
   "cell_type": "markdown",
   "metadata": {
    "colab_type": "text",
    "id": "csvv8nIPG6H8"
   },
   "source": [
    "## Midterm projects (30 credits)\n",
    "\n",
    "- You are required to finish only one of these two projects.\n",
    "- If you work on both of them, the score is based on the higher score project, and the other one only provides scaled maximum 5 extra credits. For example, if project 1 is graded as 24 points, and project 2 is graded as 12 points. Then the total score is 24 + 5*(12/30) = 26\n"
   ]
  },
  {
   "cell_type": "markdown",
   "metadata": {
    "colab_type": "text",
    "id": "bE7Bk0rXG6H-"
   },
   "source": [
    "### Project 1"
   ]
  },
  {
   "cell_type": "markdown",
   "metadata": {
    "colab_type": "text",
    "id": "njtVpAHHG6H_"
   },
   "source": [
    "After >20 years of development, genome sequencing becomes accessible to find the identity of a person dead in accidents, battle field or natural disasters. Since sequencing generally produces super large size of data, this is one of the focused areas for data science.  \n",
    "\n",
    "For example, we are often interested to know the gender of the person. One easy way to distinguish male from female is that male has Y chromosome and some genes or DNA sequences are only pertinent to Y chromosome. If the DNA sequencing result shows those Y-chromosome DNA sequences, we are sure the sample belongs to a male.\n",
    "\n",
    "\n",
    "Please download **sequence_X.fasta** and **sequence_Y.fasta** that correpond to chromosome X and chromosome Y datasets. They are provided in the same folder."
   ]
  },
  {
   "cell_type": "markdown",
   "metadata": {
    "colab_type": "text",
    "id": "G0KNmFIFG6IB"
   },
   "source": [
    "**Question 1 (15 points):** Make a dictionary for both chromosome X and chromosome Y where the **keys** are 'protein', and **values** are DNA sequence. Either chromosome X or Y should have hundreds of key and value pairs. "
   ]
  },
  {
   "cell_type": "markdown",
   "metadata": {
    "colab_type": "text",
    "id": "8gCicBI5G6IC"
   },
   "source": [
    "*Hint:* \n",
    "1. In week 5 we learned how to read genomic data in the genbank format. It is the same approach to read the fasta format. For example, use **for genome in SeqIO.parse(open(\"sequence_X.fasta\",'r'), \"fasta\"):** ...  to read the data including both description and sequences. **genome.description** will contain the protein (labeled as 'protein = ???') of each section of the genome, and **genome.seq** will include the corresponding DNA sequence (note: only the corresponding section of DNA sequence instead of the entire sequence should be the value of a particular key).\n",
    "\n",
    "\n",
    "2. DNA sequence of human genome in the database is stored as sections, and there are many missing sequence between the sections. Each section has a DNA sequenence and may correspond to coding of a protein."
   ]
  },
  {
   "cell_type": "markdown",
   "metadata": {
    "colab_type": "text",
    "id": "yqLhEAT5G6ID"
   },
   "source": [
    "**Question 2 (15 points):** Higly decomposed human remains were discovered in a pond. DNA has been severely degraded, and thus it is not possible to sequence long DNA sequences. However, a piece of DNA was recoved as 'ACAGTAAAGGCAACGTCCAGGATAGAGTGAAGCGACCCATGAACGCATTCAT'. Does this DNA belong to a male or female? Must present the python code of matching this short sequence to the chromosome X or Y in the database. If matching occurs, also show the location on the genome and name of protein that is related with this short DNA. \n",
    "\n",
    "*Hint:* \n",
    "You can use regular expression to search whether this small piece of DNA sequence is in chromosome X or Y. "
   ]
  },
  {
   "cell_type": "code",
   "execution_count": 1,
   "metadata": {
    "colab": {
     "base_uri": "https://localhost:8080/",
     "height": 34
    },
    "colab_type": "code",
    "executionInfo": {
     "elapsed": 5336,
     "status": "ok",
     "timestamp": 1584305812806,
     "user": {
      "displayName": "Ahamed Arif",
      "photoUrl": "",
      "userId": "13356617077074167902"
     },
     "user_tz": 240
    },
    "id": "i1CyJ-ef-mwP",
    "outputId": "34b95637-95a3-4cc6-f023-bc98e1ea8e0f"
   },
   "outputs": [],
   "source": [
    "!pip install -q biopython"
   ]
  },
  {
   "cell_type": "code",
   "execution_count": 3,
   "metadata": {
    "colab": {
     "base_uri": "https://localhost:8080/",
     "height": 214
    },
    "colab_type": "code",
    "executionInfo": {
     "elapsed": 589,
     "status": "error",
     "timestamp": 1584305829183,
     "user": {
      "displayName": "Ahamed Arif",
      "photoUrl": "",
      "userId": "13356617077074167902"
     },
     "user_tz": 240
    },
    "id": "ZPL4R3sfG6IF",
    "outputId": "cce633ca-b553-49da-b238-bf672dad487f"
   },
   "outputs": [
    {
     "name": "stderr",
     "output_type": "stream",
     "text": [
      "IOPub data rate exceeded.\n",
      "The notebook server will temporarily stop sending output\n",
      "to the client in order to avoid crashing it.\n",
      "To change this limit, set the config variable\n",
      "`--NotebookApp.iopub_data_rate_limit`.\n",
      "\n",
      "Current values:\n",
      "NotebookApp.iopub_data_rate_limit=1000000.0 (bytes/sec)\n",
      "NotebookApp.rate_limit_window=3.0 (secs)\n",
      "\n"
     ]
    }
   ],
   "source": [
    "from Bio import SeqIO\n",
    "\n",
    "print('Question 1')\n",
    "dictX = {}\n",
    "for genome in SeqIO.parse(open(\"sequence_X.fasta\",'r'), \"fasta\"):\n",
    "    key = genome.description.split('[')\n",
    "    key = key[3].replace('protein=', '')\n",
    "    key = key.replace(']', '')\n",
    "    value = genome.seq.split(',')\n",
    "    value = str(value[0]).replace('Seq(', '')\n",
    "    value = value.replace(')', '')\n",
    "    dictX[key] = value\n",
    "print('Dictionary X :', dictX)\n",
    "\n",
    "dictY = {}\n",
    "dictLocation = {}\n",
    "for genome in SeqIO.parse(open(\"sequence_Y.fasta\",'r'), \"fasta\"):\n",
    "    location = genome.description.split('[')\n",
    "    location = location[5].replace('location=', '')\n",
    "    location = location.replace(']', '')\n",
    "    key = genome.description.split('[')\n",
    "    key = key[3].replace('protein=', '')\n",
    "    key = key.replace(']', '')\n",
    "    value = genome.seq.split(',')\n",
    "    value = str(value[0]).replace('Seq(', '')\n",
    "    value = value.replace(')', '')\n",
    "    dictY[key] = value\n",
    "    dictLocation[key] = location\n",
    "print('Dictionary Y :', dictY)\n",
    "\n",
    "print()\n",
    "print('Question 2')\n",
    "for i in dictY:\n",
    "    if 'ACAGTAAAGGCAACGTCCAGGATAGAGTGAAGCGACCCATGAACGCATTCAT' in dictY[i]:\n",
    "        print('Gender :', 'Male')\n",
    "        print('Name of Protein :', i)\n",
    "        print('Location on Genome :', dictLocation[i])"
   ]
  },
  {
   "cell_type": "markdown",
   "metadata": {
    "colab_type": "text",
    "id": "Yfc-rvCoG6IJ"
   },
   "source": [
    "### Project 2"
   ]
  },
  {
   "cell_type": "markdown",
   "metadata": {
    "colab_type": "text",
    "id": "FTVdouPfG6IK"
   },
   "source": [
    "Exploratory Data Analysis is an important part of any Data Science project. It usually involves analyzing and visualizing the data to identify patterns before proceeding with more in-depth analysis. However, when the data are in text format instead of digits, it is challenging to quantitatively and qualitatively make conclusion. The following is an example of exploring media. The database contains >20K news articles. "
   ]
  },
  {
   "cell_type": "markdown",
   "metadata": {
    "colab_type": "text",
    "id": "6ZxtDLzPG6IL"
   },
   "source": [
    "Download the dataset **articles.txt** from the same folder."
   ]
  },
  {
   "cell_type": "markdown",
   "metadata": {
    "colab_type": "text",
    "id": "Gbobn9lWG6IM"
   },
   "source": [
    "**Question 1 (15points):** Which media (NPR, Washington Post...)  publish more articles on health?\n",
    " \n",
    " *Hint:*\n",
    " \n",
    "1. You can define and search keywords related to health, medicine, drug, hospital etc. to gather the frequency of the keywords for each media. If these keywords show higher frequency, the media most likely publishes more articles on health.\n",
    "\n",
    "\n",
    "2. You can use the following code to open and input the database. Of course you could come out even better way."
   ]
  },
  {
   "cell_type": "code",
   "execution_count": 0,
   "metadata": {
    "colab": {},
    "colab_type": "code",
    "id": "3Wln5uiUG6IN",
    "scrolled": true
   },
   "outputs": [],
   "source": [
    "import csv\n",
    "\n",
    "with open('articles.txt',encoding=\"ANSI\") as csv_file:\n",
    "    csv_reader = csv.reader(csv_file, delimiter=',')\n",
    "    line_count = 0\n",
    "    new_file = []\n",
    "    for row in csv_reader:\n",
    "        new_file += [[row[x] for x in range(10)]]\n",
    "# the new_file includes all information from the articles.txt. There are about 21,000 articles in the date.   \n",
    "# new_file[0] shows all the titles for each article information. The 'publication' includes the names of media\n",
    "# 'content' includes the news content."
   ]
  },
  {
   "cell_type": "markdown",
   "metadata": {
    "colab_type": "text",
    "id": "Foki46gDG6IQ"
   },
   "source": [
    "**Question 2 (10 points):** Rank the authors in terms of the number of articles they contribute to each media. Make simple graphs to show the top 5 authors for each media. \n",
    "\n",
    "\n",
    " \n",
    "*hint:* 'author' column of new_file is the name of authors."
   ]
  },
  {
   "cell_type": "markdown",
   "metadata": {
    "colab_type": "text",
    "id": "7sDNIt1hG6IR"
   },
   "source": [
    "**Question 3 (5 points):** Does any author write articles for more than one media? Make a program to find out. "
   ]
  },
  {
   "cell_type": "code",
   "execution_count": 0,
   "metadata": {
    "colab": {},
    "colab_type": "code",
    "id": "SugZZ68FG6IS"
   },
   "outputs": [],
   "source": []
  }
 ],
 "metadata": {
  "colab": {
   "name": "Midterm_1_two_projects.ipynb",
   "provenance": []
  },
  "kernelspec": {
   "display_name": "Python 3",
   "language": "python",
   "name": "python3"
  },
  "language_info": {
   "codemirror_mode": {
    "name": "ipython",
    "version": 3
   },
   "file_extension": ".py",
   "mimetype": "text/x-python",
   "name": "python",
   "nbconvert_exporter": "python",
   "pygments_lexer": "ipython3",
   "version": "3.7.4"
  }
 },
 "nbformat": 4,
 "nbformat_minor": 1
}
